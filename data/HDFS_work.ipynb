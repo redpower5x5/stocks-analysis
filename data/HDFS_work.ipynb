{
 "cells": [
  {
   "attachments": {},
   "cell_type": "markdown",
   "id": "81236c34",
   "metadata": {},
   "source": [
    "# Hadoop HDFS upload data"
   ]
  },
  {
   "attachments": {},
   "cell_type": "markdown",
   "id": "a3f7f840",
   "metadata": {},
   "source": [
    "### Update sys requirements"
   ]
  },
  {
   "cell_type": "code",
   "execution_count": 3,
   "id": "382c724d-e79d-436b-830e-40cf56d80f31",
   "metadata": {
    "tags": []
   },
   "outputs": [
    {
     "name": "stdout",
     "output_type": "stream",
     "text": [
      "Hit:1 http://archive.ubuntu.com/ubuntu jammy InRelease\n",
      "Hit:2 http://archive.ubuntu.com/ubuntu jammy-updates InRelease\n",
      "Hit:3 http://archive.ubuntu.com/ubuntu jammy-backports InRelease\n",
      "Hit:4 http://security.ubuntu.com/ubuntu jammy-security InRelease\n",
      "Reading package lists... Done\u001b[33m\u001b[33m\n",
      "Building dependency tree... Done\n",
      "Reading state information... Done\n",
      "1 package can be upgraded. Run 'apt list --upgradable' to see it.\n"
     ]
    }
   ],
   "source": [
    "!sudo apt update"
   ]
  },
  {
   "cell_type": "code",
   "execution_count": 24,
   "id": "44d0cee8-eefc-4fce-9f34-44c98ce08ac2",
   "metadata": {
    "tags": []
   },
   "outputs": [
    {
     "name": "stdout",
     "output_type": "stream",
     "text": [
      "Reading package lists... Done\n",
      "Building dependency tree... Done\n",
      "Reading state information... Done\n",
      "libsasl2-2 is already the newest version (2.1.27+dfsg2-3ubuntu1.2).\n",
      "libsasl2-dev is already the newest version (2.1.27+dfsg2-3ubuntu1.2).\n",
      "libsasl2-modules is already the newest version (2.1.27+dfsg2-3ubuntu1.2).\n",
      "libsasl2-modules-gssapi-mit is already the newest version (2.1.27+dfsg2-3ubuntu1.2).\n",
      "sasl2-bin is already the newest version (2.1.27+dfsg2-3ubuntu1.2).\n",
      "0 upgraded, 0 newly installed, 0 to remove and 1 not upgraded.\n"
     ]
    }
   ],
   "source": [
    "!sudo apt install libsasl2-dev libsasl2-2 libsasl2-modules-gssapi-mit sasl2-bin libsasl2-2 libsasl2-dev libsasl2-modules -y"
   ]
  },
  {
   "cell_type": "code",
   "execution_count": 17,
   "id": "4419d78f-8d1f-4d1e-949c-8501d70e13a3",
   "metadata": {
    "tags": []
   },
   "outputs": [
    {
     "name": "stdout",
     "output_type": "stream",
     "text": [
      "Requirement already satisfied: sasl in /opt/conda/lib/python3.10/site-packages (0.3.1)\n",
      "Requirement already satisfied: thrift in /opt/conda/lib/python3.10/site-packages (0.16.0)\n",
      "Requirement already satisfied: hdfs in /opt/conda/lib/python3.10/site-packages (2.7.0)\n",
      "Requirement already satisfied: PyHive in /opt/conda/lib/python3.10/site-packages (0.6.5)\n",
      "Requirement already satisfied: thrift_sasl in /opt/conda/lib/python3.10/site-packages (0.4.3)\n",
      "Requirement already satisfied: six in /opt/conda/lib/python3.10/site-packages (from sasl) (1.16.0)\n",
      "Requirement already satisfied: docopt in /opt/conda/lib/python3.10/site-packages (from hdfs) (0.6.2)\n",
      "Requirement already satisfied: requests>=2.7.0 in /opt/conda/lib/python3.10/site-packages (from hdfs) (2.29.0)\n",
      "Requirement already satisfied: future in /opt/conda/lib/python3.10/site-packages (from PyHive) (0.18.3)\n",
      "Requirement already satisfied: python-dateutil in /opt/conda/lib/python3.10/site-packages (from PyHive) (2.8.2)\n",
      "Requirement already satisfied: pure-sasl>=0.6.2 in /opt/conda/lib/python3.10/site-packages (from thrift_sasl) (0.6.2)\n",
      "Requirement already satisfied: charset-normalizer<4,>=2 in /opt/conda/lib/python3.10/site-packages (from requests>=2.7.0->hdfs) (3.1.0)\n",
      "Requirement already satisfied: idna<4,>=2.5 in /opt/conda/lib/python3.10/site-packages (from requests>=2.7.0->hdfs) (3.4)\n",
      "Requirement already satisfied: urllib3<1.27,>=1.21.1 in /opt/conda/lib/python3.10/site-packages (from requests>=2.7.0->hdfs) (1.26.15)\n",
      "Requirement already satisfied: certifi>=2017.4.17 in /opt/conda/lib/python3.10/site-packages (from requests>=2.7.0->hdfs) (2022.12.7)\n"
     ]
    }
   ],
   "source": [
    "!pip install sasl thrift hdfs PyHive thrift_sasl"
   ]
  },
  {
   "attachments": {},
   "cell_type": "markdown",
   "id": "c88fd481",
   "metadata": {},
   "source": [
    "### Upload dataset to HDFS"
   ]
  },
  {
   "cell_type": "code",
   "execution_count": 45,
   "id": "9fc13f41-1c3f-4891-9fe0-7268b806a032",
   "metadata": {
    "tags": []
   },
   "outputs": [],
   "source": [
    "import os\n",
    "from pyhive import hive\n",
    "import pandas as pd\n",
    "from io import StringIO\n",
    "from hdfs import InsecureClient"
   ]
  },
  {
   "cell_type": "code",
   "execution_count": 58,
   "id": "819a1a2f-48cd-4b92-9a37-2b934e606c04",
   "metadata": {
    "tags": []
   },
   "outputs": [],
   "source": [
    "client = InsecureClient('http://namenode:9870', user='root')\n",
    "\n",
    "# Define the paths for the tables and views\n",
    "stocks_hdfs_path = '/data/opendan/files/Stocks'"
   ]
  },
  {
   "cell_type": "code",
   "execution_count": 59,
   "id": "9bee0805-6326-48a8-8be5-3c282ec2b3e9",
   "metadata": {
    "tags": []
   },
   "outputs": [],
   "source": [
    "for filename in os.listdir('Stocks'):\n",
    "    try:\n",
    "        df = pd.read_csv(f'Stocks/{filename}')\n",
    "        name = filename.split('.')[0]\n",
    "        df['Name'] = name\n",
    "        hdfs_dest = os.path.join(stocks_hdfs_path, name + '.csv')\n",
    "        # Save the tables as CSV files to HDFS\n",
    "        with client.write(hdfs_dest, encoding='utf-8', overwrite=True) as writer:\n",
    "            df.to_csv(writer, index=False)\n",
    "    except:\n",
    "        # its ok, some stock data is empty or broken (old dataset)\n",
    "        print(f'Error with {filename}')"
   ]
  },
  {
   "cell_type": "code",
   "execution_count": null,
   "id": "fe83936c-1fae-4644-a450-a92fccf5e927",
   "metadata": {},
   "outputs": [],
   "source": []
  }
 ],
 "metadata": {
  "kernelspec": {
   "display_name": "Python 3 (ipykernel)",
   "language": "python",
   "name": "python3"
  },
  "language_info": {
   "codemirror_mode": {
    "name": "ipython",
    "version": 3
   },
   "file_extension": ".py",
   "mimetype": "text/x-python",
   "name": "python",
   "nbconvert_exporter": "python",
   "pygments_lexer": "ipython3",
   "version": "3.10.10"
  }
 },
 "nbformat": 4,
 "nbformat_minor": 5
}
